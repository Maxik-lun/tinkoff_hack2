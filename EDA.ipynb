{
 "cells": [
  {
   "cell_type": "code",
   "execution_count": 1,
   "metadata": {},
   "outputs": [],
   "source": [
    "import pandas as pd\n",
    "import numpy as np\n",
    "import matplotlib.pyplot as plt\n",
    "import seaborn as sns\n",
    "import os\n",
    "\n",
    "%matplotlib inline"
   ]
  },
  {
   "cell_type": "code",
   "execution_count": 2,
   "metadata": {},
   "outputs": [
    {
     "data": {
      "text/plain": [
       "['avk_hackathon_data_account_x_balance.csv',\n",
       " 'avk_hackathon_data_party_products.csv',\n",
       " 'avk_hackathon_data_party_x_socdem.csv',\n",
       " 'avk_hackathon_data_story_logs.csv',\n",
       " 'avk_hackathon_data_story_texts.csv',\n",
       " 'avk_hackathon_data_transactions.csv',\n",
       " 'baseline_model.pth.tar',\n",
       " 'mappings.json',\n",
       " 'party2category.pkl',\n",
       " 'party2dates.pkl',\n",
       " 'party2merchant_type.pkl',\n",
       " 'party2sum.pkl',\n",
       " 'party2trans_type.pkl']"
      ]
     },
     "execution_count": 2,
     "metadata": {},
     "output_type": "execute_result"
    }
   ],
   "source": [
    "datasets = os.listdir('hackathon_data')\n",
    "datasets"
   ]
  },
  {
   "cell_type": "code",
   "execution_count": 5,
   "metadata": {},
   "outputs": [],
   "source": [
    "dfs = {}\n",
    "for name in datasets:\n",
    "    if name!='avk_hackathon_data_transactions.csv':\n",
    "        name1 = name.split('_')[-1][:-4]\n",
    "        dfs[name1] = pd.read_csv('hackathon_data/'+name)"
   ]
  },
  {
   "cell_type": "code",
   "execution_count": 18,
   "metadata": {},
   "outputs": [
    {
     "name": "stdout",
     "output_type": "stream",
     "text": [
      "11987618 hackathon_data/avk_hackathon_data_transactions.csv\r\n"
     ]
    }
   ],
   "source": [
    "!wc -l hackathon_data/avk_hackathon_data_transactions.csv"
   ]
  },
  {
   "cell_type": "code",
   "execution_count": 56,
   "metadata": {
    "scrolled": true
   },
   "outputs": [
    {
     "data": {
      "text/html": [
       "<div>\n",
       "<style scoped>\n",
       "    .dataframe tbody tr th:only-of-type {\n",
       "        vertical-align: middle;\n",
       "    }\n",
       "\n",
       "    .dataframe tbody tr th {\n",
       "        vertical-align: top;\n",
       "    }\n",
       "\n",
       "    .dataframe thead th {\n",
       "        text-align: right;\n",
       "    }\n",
       "</style>\n",
       "<table border=\"1\" class=\"dataframe\">\n",
       "  <thead>\n",
       "    <tr style=\"text-align: right;\">\n",
       "      <th></th>\n",
       "      <th>party_rk</th>\n",
       "      <th>account_rk</th>\n",
       "      <th>financial_account_type_cd</th>\n",
       "      <th>transaction_dttm</th>\n",
       "      <th>transaction_type_desc</th>\n",
       "      <th>transaction_amt_rur</th>\n",
       "      <th>merchant_rk</th>\n",
       "      <th>merchant_type</th>\n",
       "      <th>merchant_group_rk</th>\n",
       "      <th>category</th>\n",
       "    </tr>\n",
       "  </thead>\n",
       "  <tbody>\n",
       "    <tr>\n",
       "      <th>0</th>\n",
       "      <td>20337</td>\n",
       "      <td>19666</td>\n",
       "      <td>1</td>\n",
       "      <td>2019-01-01</td>\n",
       "      <td>Покупка</td>\n",
       "      <td>84.00</td>\n",
       "      <td>88676.0</td>\n",
       "      <td>348.0</td>\n",
       "      <td>NaN</td>\n",
       "      <td>Сувениры</td>\n",
       "    </tr>\n",
       "    <tr>\n",
       "      <th>1</th>\n",
       "      <td>63404</td>\n",
       "      <td>72991</td>\n",
       "      <td>1</td>\n",
       "      <td>2019-01-01</td>\n",
       "      <td>Покупка</td>\n",
       "      <td>410.00</td>\n",
       "      <td>887248.0</td>\n",
       "      <td>330.0</td>\n",
       "      <td>725.0</td>\n",
       "      <td>Фаст Фуд</td>\n",
       "    </tr>\n",
       "    <tr>\n",
       "      <th>2</th>\n",
       "      <td>24789</td>\n",
       "      <td>23517</td>\n",
       "      <td>2</td>\n",
       "      <td>2019-01-01</td>\n",
       "      <td>Покупка</td>\n",
       "      <td>701.44</td>\n",
       "      <td>830014.0</td>\n",
       "      <td>291.0</td>\n",
       "      <td>NaN</td>\n",
       "      <td>Супермаркеты</td>\n",
       "    </tr>\n",
       "    <tr>\n",
       "      <th>3</th>\n",
       "      <td>57970</td>\n",
       "      <td>64838</td>\n",
       "      <td>2</td>\n",
       "      <td>2019-01-01</td>\n",
       "      <td>Покупка</td>\n",
       "      <td>6203.70</td>\n",
       "      <td>363834.0</td>\n",
       "      <td>278.0</td>\n",
       "      <td>454.0</td>\n",
       "      <td>Дом/Ремонт</td>\n",
       "    </tr>\n",
       "    <tr>\n",
       "      <th>4</th>\n",
       "      <td>12232</td>\n",
       "      <td>11591</td>\n",
       "      <td>2</td>\n",
       "      <td>2019-01-01</td>\n",
       "      <td>Покупка</td>\n",
       "      <td>734.53</td>\n",
       "      <td>85919.0</td>\n",
       "      <td>286.0</td>\n",
       "      <td>878.0</td>\n",
       "      <td>Супермаркеты</td>\n",
       "    </tr>\n",
       "  </tbody>\n",
       "</table>\n",
       "</div>"
      ],
      "text/plain": [
       "   party_rk  account_rk  financial_account_type_cd transaction_dttm  \\\n",
       "0     20337       19666                          1       2019-01-01   \n",
       "1     63404       72991                          1       2019-01-01   \n",
       "2     24789       23517                          2       2019-01-01   \n",
       "3     57970       64838                          2       2019-01-01   \n",
       "4     12232       11591                          2       2019-01-01   \n",
       "\n",
       "  transaction_type_desc  transaction_amt_rur  merchant_rk  merchant_type  \\\n",
       "0               Покупка                84.00      88676.0          348.0   \n",
       "1               Покупка               410.00     887248.0          330.0   \n",
       "2               Покупка               701.44     830014.0          291.0   \n",
       "3               Покупка              6203.70     363834.0          278.0   \n",
       "4               Покупка               734.53      85919.0          286.0   \n",
       "\n",
       "   merchant_group_rk      category  \n",
       "0                NaN      Сувениры  \n",
       "1              725.0      Фаст Фуд  \n",
       "2                NaN  Супермаркеты  \n",
       "3              454.0    Дом/Ремонт  \n",
       "4              878.0  Супермаркеты  "
      ]
     },
     "execution_count": 56,
     "metadata": {},
     "output_type": "execute_result"
    }
   ],
   "source": [
    "trans = pd.read_csv('hackathon_data/avk_hackathon_data_transactions.csv')\n",
    "trans.head()"
   ]
  },
  {
   "cell_type": "code",
   "execution_count": 4,
   "metadata": {},
   "outputs": [
    {
     "name": "stdout",
     "output_type": "stream",
     "text": [
      "<class 'pandas.core.frame.DataFrame'>\n",
      "RangeIndex: 11987617 entries, 0 to 11987616\n",
      "Data columns (total 10 columns):\n",
      " #   Column                     Dtype  \n",
      "---  ------                     -----  \n",
      " 0   party_rk                   int64  \n",
      " 1   account_rk                 int64  \n",
      " 2   financial_account_type_cd  int64  \n",
      " 3   transaction_dttm           object \n",
      " 4   transaction_type_desc      object \n",
      " 5   transaction_amt_rur        float64\n",
      " 6   merchant_rk                float64\n",
      " 7   merchant_type              float64\n",
      " 8   merchant_group_rk          float64\n",
      " 9   category                   object \n",
      "dtypes: float64(4), int64(3), object(3)\n",
      "memory usage: 914.6+ MB\n"
     ]
    }
   ],
   "source": [
    "trans.info()"
   ]
  },
  {
   "cell_type": "code",
   "execution_count": null,
   "metadata": {},
   "outputs": [],
   "source": [
    "np.isnan()"
   ]
  },
  {
   "cell_type": "code",
   "execution_count": 12,
   "metadata": {},
   "outputs": [
    {
     "data": {
      "text/plain": [
       "party_rk                           0\n",
       "account_rk                         0\n",
       "financial_account_type_cd          0\n",
       "transaction_dttm                   0\n",
       "transaction_type_desc              0\n",
       "transaction_amt_rur                6\n",
       "merchant_rk                        0\n",
       "merchant_type                      0\n",
       "merchant_group_rk            6222298\n",
       "category                     1879352\n",
       "dtype: int64"
      ]
     },
     "execution_count": 12,
     "metadata": {},
     "output_type": "execute_result"
    }
   ],
   "source": [
    "trans.isna().sum()"
   ]
  },
  {
   "cell_type": "code",
   "execution_count": 38,
   "metadata": {
    "scrolled": true
   },
   "outputs": [
    {
     "data": {
      "text/plain": [
       "<matplotlib.axes._subplots.AxesSubplot at 0x162d9a5c8b0>"
      ]
     },
     "execution_count": 38,
     "metadata": {},
     "output_type": "execute_result"
    },
    {
     "data": {
      "image/png": "[encoded data removed]",
      "text/plain": [
       "<Figure size 432x288 with 1 Axes>"
      ]
     },
     "metadata": {
      "needs_background": "light"
     },
     "output_type": "display_data"
    }
   ],
   "source": [
    "trans['merchant_type'].hist()"
   ]
  },
  {
   "cell_type": "code",
   "execution_count": 37,
   "metadata": {},
   "outputs": [
    {
     "data": {
      "text/plain": [
       "<matplotlib.axes._subplots.AxesSubplot at 0x162d9a09700>"
      ]
     },
     "execution_count": 37,
     "metadata": {},
     "output_type": "execute_result"
    },
    {
     "data": {
      "image/png": "[encoded data removed]",
      "text/plain": [
       "<Figure size 432x288 with 1 Axes>"
      ]
     },
     "metadata": {
      "needs_background": "light"
     },
     "output_type": "display_data"
    }
   ],
   "source": [
    "trans['category'].dropna().hist()"
   ]
  },
  {
   "cell_type": "code",
   "execution_count": 30,
   "metadata": {
    "scrolled": true
   },
   "outputs": [
    {
     "data": {
      "text/plain": [
       "Супермаркеты          0.389738\n",
       "Фаст Фуд              0.099692\n",
       "Транспорт             0.083105\n",
       "Финансовые услуги     0.077895\n",
       "Разные товары         0.052552\n",
       "Рестораны             0.039702\n",
       "Топливо               0.039419\n",
       "Аптеки                0.030803\n",
       "Наличные              0.026908\n",
       "Дом/Ремонт            0.026554\n",
       "Одежда/Обувь          0.025259\n",
       "Красота               0.010891\n",
       "Сервисные услуги      0.009953\n",
       "Развлечения           0.009926\n",
       "Связь/Телеком         0.009546\n",
       "Автоуслуги            0.008780\n",
       "Медицинские услуги    0.005627\n",
       "НКО                   0.005586\n",
       "Музыка                0.005398\n",
       "Госсборы              0.004985\n",
       "Кино                  0.004271\n",
       "Аренда авто           0.003955\n",
       "Книги                 0.003698\n",
       "Спорттовары           0.003524\n",
       "Животные              0.003424\n",
       "Ж/д билеты            0.003065\n",
       "Авиабилеты            0.002997\n",
       "Цветы                 0.002899\n",
       "Отели                 0.002896\n",
       "Частные услуги        0.002418\n",
       "Сувениры              0.001629\n",
       "Образование           0.000891\n",
       "Турагентства          0.000651\n",
       "Duty Free             0.000604\n",
       "Фото/Видео            0.000569\n",
       "Искусство             0.000185\n",
       "Name: category, dtype: float64"
      ]
     },
     "execution_count": 30,
     "metadata": {},
     "output_type": "execute_result"
    }
   ],
   "source": [
    "trans['category'].dropna().value_counts()/trans['category'].dropna().count()"
   ]
  },
  {
   "cell_type": "code",
   "execution_count": 69,
   "metadata": {},
   "outputs": [],
   "source": [
    "category = list(trans['category'])\n",
    "merchant_type = list(trans['merchant_type'])\n",
    "type2category = {}\n",
    "\n",
    "for i in range(len(merchant_type)):\n",
    "    if not (pd.isna(category[i]) or pd.isna(merchant_type[i])):\n",
    "        type2category[merchant_type[i]] = category[i]"
   ]
  },
  {
   "cell_type": "raw",
   "metadata": {},
   "source": [
    "set(trans['merchant_type'].unique())-set(type2category.keys())"
   ]
  },
  {
   "cell_type": "code",
   "execution_count": 68,
   "metadata": {},
   "outputs": [
    {
     "data": {
      "text/plain": [
       "False"
      ]
     },
     "execution_count": 68,
     "metadata": {},
     "output_type": "execute_result"
    }
   ],
   "source": [
    "pd.isna(float(2))"
   ]
  },
  {
   "cell_type": "code",
   "execution_count": 182,
   "metadata": {},
   "outputs": [
    {
     "data": {
      "text/plain": [
       "0           False\n",
       "1           False\n",
       "2           False\n",
       "3           False\n",
       "4           False\n",
       "            ...  \n",
       "11987612    False\n",
       "11987613    False\n",
       "11987614    False\n",
       "11987615    False\n",
       "11987616    False\n",
       "Name: merchant_type, Length: 11987617, dtype: bool"
      ]
     },
     "execution_count": 182,
     "metadata": {},
     "output_type": "execute_result"
    }
   ],
   "source": [
    "def fill_cal(x):\n",
    "    if np.isnan(x['merchant_type'])"
   ]
  },
  {
   "cell_type": "code",
   "execution_count": null,
   "metadata": {},
   "outputs": [],
   "source": [
    "trans['category'].isna()"
   ]
  },
  {
   "cell_type": "code",
   "execution_count": 125,
   "metadata": {},
   "outputs": [
    {
     "name": "stdout",
     "output_type": "stream",
     "text": [
      "transaction_type:\n",
      "['Покупка' 'Оплата услуг' 'Платеж' 'Снятие наличных']\n",
      "category:\n",
      "['Сувениры' 'Фаст Фуд' 'Супермаркеты' 'Дом/Ремонт' 'Сервисные услуги'\n",
      " 'Красота' nan 'Разные товары' 'Транспорт' 'Медицинские услуги' 'Топливо'\n",
      " 'Одежда/Обувь' 'Наличные' 'Связь/Телеком' 'Частные услуги'\n",
      " 'Финансовые услуги' 'Рестораны' 'Развлечения' 'НКО' 'Книги' 'Кино'\n",
      " 'Автоуслуги' 'Музыка' 'Отели' 'Аптеки' 'Цветы' 'Ж/д билеты' 'Авиабилеты'\n",
      " 'Спорттовары' 'Госсборы' 'Аренда авто' 'Животные' 'Duty Free'\n",
      " 'Турагентства' 'Образование' 'Искусство' 'Фото/Видео']\n"
     ]
    }
   ],
   "source": [
    "print('transaction_type:')\n",
    "print(trans['transaction_type_desc'].unique())\n",
    "print('category:')\n",
    "print(trans['category'].unique())"
   ]
  },
  {
   "cell_type": "code",
   "execution_count": 82,
   "metadata": {},
   "outputs": [
    {
     "data": {
      "text/html": [
       "<div>\n",
       "<style scoped>\n",
       "    .dataframe tbody tr th:only-of-type {\n",
       "        vertical-align: middle;\n",
       "    }\n",
       "\n",
       "    .dataframe tbody tr th {\n",
       "        vertical-align: top;\n",
       "    }\n",
       "\n",
       "    .dataframe thead th {\n",
       "        text-align: right;\n",
       "    }\n",
       "</style>\n",
       "<table border=\"1\" class=\"dataframe\">\n",
       "  <thead>\n",
       "    <tr style=\"text-align: right;\">\n",
       "      <th></th>\n",
       "      <th>Unnamed: 0</th>\n",
       "      <th>Сувениры</th>\n",
       "      <th>Фаст Фуд</th>\n",
       "      <th>Супермаркеты</th>\n",
       "      <th>Дом/Ремонт</th>\n",
       "      <th>Сервисные услуги</th>\n",
       "      <th>Красота</th>\n",
       "      <th>Разные товары</th>\n",
       "      <th>Транспорт</th>\n",
       "      <th>Медицинские услуги</th>\n",
       "      <th>...</th>\n",
       "      <th>Авиабилеты</th>\n",
       "      <th>Спорттовары</th>\n",
       "      <th>Госсборы</th>\n",
       "      <th>Аренда авто</th>\n",
       "      <th>Животные</th>\n",
       "      <th>Duty Free</th>\n",
       "      <th>Турагентства</th>\n",
       "      <th>Образование</th>\n",
       "      <th>Искусство</th>\n",
       "      <th>Фото/Видео</th>\n",
       "    </tr>\n",
       "  </thead>\n",
       "  <tbody>\n",
       "    <tr>\n",
       "      <th>0</th>\n",
       "      <td>20337</td>\n",
       "      <td>0.014202</td>\n",
       "      <td>0.180079</td>\n",
       "      <td>0.506184</td>\n",
       "      <td>0.170106</td>\n",
       "      <td>0.021018</td>\n",
       "      <td>0.058128</td>\n",
       "      <td>0.998895</td>\n",
       "      <td>0.040414</td>\n",
       "      <td>0.085912</td>\n",
       "      <td>...</td>\n",
       "      <td>0.013728</td>\n",
       "      <td>0.054590</td>\n",
       "      <td>0.238085</td>\n",
       "      <td>0.010160</td>\n",
       "      <td>0.395171</td>\n",
       "      <td>0.006002</td>\n",
       "      <td>0.004566</td>\n",
       "      <td>0.009067</td>\n",
       "      <td>0.002163</td>\n",
       "      <td>0.009786</td>\n",
       "    </tr>\n",
       "    <tr>\n",
       "      <th>1</th>\n",
       "      <td>63404</td>\n",
       "      <td>0.020584</td>\n",
       "      <td>0.699245</td>\n",
       "      <td>0.951223</td>\n",
       "      <td>0.153334</td>\n",
       "      <td>0.337638</td>\n",
       "      <td>0.279377</td>\n",
       "      <td>0.995587</td>\n",
       "      <td>0.050032</td>\n",
       "      <td>0.080982</td>\n",
       "      <td>...</td>\n",
       "      <td>0.003588</td>\n",
       "      <td>0.045954</td>\n",
       "      <td>0.017491</td>\n",
       "      <td>0.000163</td>\n",
       "      <td>0.027316</td>\n",
       "      <td>0.001257</td>\n",
       "      <td>0.001296</td>\n",
       "      <td>0.005529</td>\n",
       "      <td>0.002436</td>\n",
       "      <td>0.010585</td>\n",
       "    </tr>\n",
       "    <tr>\n",
       "      <th>2</th>\n",
       "      <td>24789</td>\n",
       "      <td>0.049263</td>\n",
       "      <td>0.606303</td>\n",
       "      <td>0.977950</td>\n",
       "      <td>0.946141</td>\n",
       "      <td>0.468172</td>\n",
       "      <td>0.133025</td>\n",
       "      <td>0.996112</td>\n",
       "      <td>0.888938</td>\n",
       "      <td>0.275788</td>\n",
       "      <td>...</td>\n",
       "      <td>0.034451</td>\n",
       "      <td>0.356992</td>\n",
       "      <td>0.417690</td>\n",
       "      <td>0.034195</td>\n",
       "      <td>0.166097</td>\n",
       "      <td>0.011306</td>\n",
       "      <td>0.014757</td>\n",
       "      <td>0.018707</td>\n",
       "      <td>0.004378</td>\n",
       "      <td>0.024780</td>\n",
       "    </tr>\n",
       "    <tr>\n",
       "      <th>3</th>\n",
       "      <td>57970</td>\n",
       "      <td>0.135153</td>\n",
       "      <td>0.991929</td>\n",
       "      <td>0.982648</td>\n",
       "      <td>0.656431</td>\n",
       "      <td>0.629166</td>\n",
       "      <td>0.315093</td>\n",
       "      <td>0.993610</td>\n",
       "      <td>0.910011</td>\n",
       "      <td>0.474760</td>\n",
       "      <td>...</td>\n",
       "      <td>0.217742</td>\n",
       "      <td>0.408947</td>\n",
       "      <td>0.432593</td>\n",
       "      <td>0.125556</td>\n",
       "      <td>0.077629</td>\n",
       "      <td>0.067885</td>\n",
       "      <td>0.076081</td>\n",
       "      <td>0.083798</td>\n",
       "      <td>0.011538</td>\n",
       "      <td>0.089123</td>\n",
       "    </tr>\n",
       "    <tr>\n",
       "      <th>4</th>\n",
       "      <td>12232</td>\n",
       "      <td>0.128818</td>\n",
       "      <td>0.868185</td>\n",
       "      <td>0.978059</td>\n",
       "      <td>0.744018</td>\n",
       "      <td>0.270669</td>\n",
       "      <td>0.435058</td>\n",
       "      <td>0.918604</td>\n",
       "      <td>0.215515</td>\n",
       "      <td>0.585423</td>\n",
       "      <td>...</td>\n",
       "      <td>0.085053</td>\n",
       "      <td>0.225528</td>\n",
       "      <td>0.174415</td>\n",
       "      <td>0.002395</td>\n",
       "      <td>0.073509</td>\n",
       "      <td>0.030213</td>\n",
       "      <td>0.042635</td>\n",
       "      <td>0.038482</td>\n",
       "      <td>0.011800</td>\n",
       "      <td>0.046111</td>\n",
       "    </tr>\n",
       "  </tbody>\n",
       "</table>\n",
       "<p>5 rows × 37 columns</p>\n",
       "</div>"
      ],
      "text/plain": [
       "   Unnamed: 0  Сувениры  Фаст Фуд  Супермаркеты  Дом/Ремонт  Сервисные услуги  \\\n",
       "0       20337  0.014202  0.180079      0.506184    0.170106          0.021018   \n",
       "1       63404  0.020584  0.699245      0.951223    0.153334          0.337638   \n",
       "2       24789  0.049263  0.606303      0.977950    0.946141          0.468172   \n",
       "3       57970  0.135153  0.991929      0.982648    0.656431          0.629166   \n",
       "4       12232  0.128818  0.868185      0.978059    0.744018          0.270669   \n",
       "\n",
       "    Красота  Разные товары  Транспорт  Медицинские услуги  ...  Авиабилеты  \\\n",
       "0  0.058128       0.998895   0.040414            0.085912  ...    0.013728   \n",
       "1  0.279377       0.995587   0.050032            0.080982  ...    0.003588   \n",
       "2  0.133025       0.996112   0.888938            0.275788  ...    0.034451   \n",
       "3  0.315093       0.993610   0.910011            0.474760  ...    0.217742   \n",
       "4  0.435058       0.918604   0.215515            0.585423  ...    0.085053   \n",
       "\n",
       "   Спорттовары  Госсборы  Аренда авто  Животные  Duty Free  Турагентства  \\\n",
       "0     0.054590  0.238085     0.010160  0.395171   0.006002      0.004566   \n",
       "1     0.045954  0.017491     0.000163  0.027316   0.001257      0.001296   \n",
       "2     0.356992  0.417690     0.034195  0.166097   0.011306      0.014757   \n",
       "3     0.408947  0.432593     0.125556  0.077629   0.067885      0.076081   \n",
       "4     0.225528  0.174415     0.002395  0.073509   0.030213      0.042635   \n",
       "\n",
       "   Образование  Искусство  Фото/Видео  \n",
       "0     0.009067   0.002163    0.009786  \n",
       "1     0.005529   0.002436    0.010585  \n",
       "2     0.018707   0.004378    0.024780  \n",
       "3     0.083798   0.011538    0.089123  \n",
       "4     0.038482   0.011800    0.046111  \n",
       "\n",
       "[5 rows x 37 columns]"
      ]
     },
     "execution_count": 82,
     "metadata": {},
     "output_type": "execute_result"
    }
   ],
   "source": [
    "recommends = pd.read_csv('category_ranks.csv')\n",
    "recommends.head()\n",
    "party"
   ]
  },
  {
   "cell_type": "code",
   "execution_count": 144,
   "metadata": {},
   "outputs": [
    {
     "data": {
      "text/plain": [
       "<seaborn.axisgrid.FacetGrid at 0x7f322f3370d0>"
      ]
     },
     "execution_count": 144,
     "metadata": {},
     "output_type": "execute_result"
    },
    {
     "data": {
      "image/png": "[encoded data removed]",
      "text/plain": [
       "<Figure size 864x216 with 4 Axes>"
      ]
     },
     "metadata": {
      "needs_background": "light"
     },
     "output_type": "display_data"
    }
   ],
   "source": [
    "rule = (trans['transaction_amt_rur']<trans['transaction_amt_rur'].quantile(0.99)) & (trans['transaction_amt_rur']>trans['transaction_amt_rur'].quantile(0.8))\n",
    "g = sns.FacetGrid(trans[rule], col=\"transaction_type_desc\")\n",
    "g.map(sns.distplot, \"transaction_amt_rur\",kde=False)"
   ]
  },
  {
   "cell_type": "markdown",
   "metadata": {},
   "source": [
    "### SOCDEM starts here"
   ]
  },
  {
   "cell_type": "code",
   "execution_count": null,
   "metadata": {},
   "outputs": [],
   "source": [
    "recommends.iloc[1]"
   ]
  },
  {
   "cell_type": "code",
   "execution_count": 74,
   "metadata": {},
   "outputs": [
    {
     "data": {
      "text/plain": [
       "{'488.0,222.0,211.0,127.0,357.0,180.0,110.0,117.0,165.0,84.0,53.0,111.0,478.0,128.0,106.0,170.0,101.0,124.0,235.0,426.0,93.0,279.0,193.0,373.0,398.0,138.0,271.0,299.0,314.0,94.0',\n",
       " '488.0,222.0,211.0,127.0,357.0,180.0,110.0,117.0,165.0,84.0,53.0,478.0,111.0,128.0,106.0,170.0,101.0,124.0,426.0,235.0,93.0,279.0,193.0,373.0,138.0,398.0,271.0,299.0,314.0,94.0'}"
      ]
     },
     "execution_count": 74,
     "metadata": {},
     "output_type": "execute_result"
    }
   ],
   "source": [
    "set(recommends['recommendations'])"
   ]
  },
  {
   "cell_type": "code",
   "execution_count": 80,
   "metadata": {},
   "outputs": [
    {
     "data": {
      "text/plain": [
       "['1.0,286.0,330.0,297.0,388.0,336.0,274.0,291.0,335.0,378.0,5.0,328.0,326.0,298.0,374.0,437.0,229.0,296.0,381.0,401.0,372.0,371.0,380.0,284.0,285.0,226.0,346.0,367.0,10.0,230.0',\n",
       " '378.0,286.0,291.0,381.0,5.0,1.0,335.0,330.0,309.0,283.0,313.0,284.0,328.0,230.0,367.0,336.0,288.0,274.0,380.0,311.0,306.0,344.0,346.0,243.0,371.0,275.0,290.0,316.0,297.0,308.0',\n",
       " '1.0,381.0,286.0,291.0,378.0,274.0,297.0,284.0,330.0,5.0,229.0,336.0,335.0,296.0,9.0,323.0,328.0,230.0,275.0,285.0,380.0,491.0,372.0,437.0,342.0,241.0,322.0,10.0,436.0,355.0',\n",
       " '286.0,330.0,1.0,5.0,381.0,328.0,335.0,229.0,297.0,226.0,291.0,380.0,244.0,447.0,336.0,274.0,378.0,342.0,371.0,401.0,317.0,323.0,284.0,227.0,290.0,309.0,450.0,411.0,313.0,322.0',\n",
       " '328.0,286.0,381.0,335.0,291.0,380.0,330.0,284.0,275.0,378.0,474.0,283.0,392.0,274.0,313.0,329.0,285.0,1.0,309.0,336.0,367.0,322.0,346.0,342.0,311.0,5.0,371.0,479.0,348.0,491.0']"
      ]
     },
     "execution_count": 80,
     "metadata": {},
     "output_type": "execute_result"
    }
   ],
   "source": [
    "recs = list(map(','.join,np.load('predictions.npy')))\n",
    "recs[:5]"
   ]
  },
  {
   "cell_type": "code",
   "execution_count": null,
   "metadata": {},
   "outputs": [],
   "source": [
    "merchant_type_inverse_mapping = {k: v for v, k in mappings['category'].items()}\n",
    "def inverse_mapping(x):\n",
    "    return list(map(merchant_type_inverse_mapping.get, x))\n",
    "\n",
    "predictions = list(map(inverse_mapping, predictions))"
   ]
  },
  {
   "cell_type": "code",
   "execution_count": 29,
   "metadata": {},
   "outputs": [
    {
     "data": {
      "text/html": [
       "<div>\n",
       "<style scoped>\n",
       "    .dataframe tbody tr th:only-of-type {\n",
       "        vertical-align: middle;\n",
       "    }\n",
       "\n",
       "    .dataframe tbody tr th {\n",
       "        vertical-align: top;\n",
       "    }\n",
       "\n",
       "    .dataframe thead th {\n",
       "        text-align: right;\n",
       "    }\n",
       "</style>\n",
       "<table border=\"1\" class=\"dataframe\">\n",
       "  <thead>\n",
       "    <tr style=\"text-align: right;\">\n",
       "      <th></th>\n",
       "      <th>age</th>\n",
       "      <th>children_cnt</th>\n",
       "      <th>region_flg</th>\n",
       "    </tr>\n",
       "  </thead>\n",
       "  <tbody>\n",
       "    <tr>\n",
       "      <th>count</th>\n",
       "      <td>50000.000000</td>\n",
       "      <td>50000.000000</td>\n",
       "      <td>50000.000000</td>\n",
       "    </tr>\n",
       "    <tr>\n",
       "      <th>mean</th>\n",
       "      <td>39.062300</td>\n",
       "      <td>0.388660</td>\n",
       "      <td>0.091900</td>\n",
       "    </tr>\n",
       "    <tr>\n",
       "      <th>std</th>\n",
       "      <td>11.675057</td>\n",
       "      <td>0.968928</td>\n",
       "      <td>0.288888</td>\n",
       "    </tr>\n",
       "    <tr>\n",
       "      <th>min</th>\n",
       "      <td>15.000000</td>\n",
       "      <td>0.000000</td>\n",
       "      <td>0.000000</td>\n",
       "    </tr>\n",
       "    <tr>\n",
       "      <th>25%</th>\n",
       "      <td>30.000000</td>\n",
       "      <td>0.000000</td>\n",
       "      <td>0.000000</td>\n",
       "    </tr>\n",
       "    <tr>\n",
       "      <th>50%</th>\n",
       "      <td>35.000000</td>\n",
       "      <td>0.000000</td>\n",
       "      <td>0.000000</td>\n",
       "    </tr>\n",
       "    <tr>\n",
       "      <th>75%</th>\n",
       "      <td>45.000000</td>\n",
       "      <td>0.000000</td>\n",
       "      <td>0.000000</td>\n",
       "    </tr>\n",
       "    <tr>\n",
       "      <th>max</th>\n",
       "      <td>100.000000</td>\n",
       "      <td>4.000000</td>\n",
       "      <td>1.000000</td>\n",
       "    </tr>\n",
       "  </tbody>\n",
       "</table>\n",
       "</div>"
      ],
      "text/plain": [
       "                age  children_cnt    region_flg\n",
       "count  50000.000000  50000.000000  50000.000000\n",
       "mean      39.062300      0.388660      0.091900\n",
       "std       11.675057      0.968928      0.288888\n",
       "min       15.000000      0.000000      0.000000\n",
       "25%       30.000000      0.000000      0.000000\n",
       "50%       35.000000      0.000000      0.000000\n",
       "75%       45.000000      0.000000      0.000000\n",
       "max      100.000000      4.000000      1.000000"
      ]
     },
     "execution_count": 29,
     "metadata": {},
     "output_type": "execute_result"
    }
   ],
   "source": [
    "dfs['socdem'].describe().drop(columns=['party_rk',region])"
   ]
  },
  {
   "cell_type": "code",
   "execution_count": 33,
   "metadata": {},
   "outputs": [
    {
     "name": "stdout",
     "output_type": "stream",
     "text": [
      "<class 'pandas.core.frame.DataFrame'>\n",
      "RangeIndex: 50000 entries, 0 to 49999\n",
      "Data columns (total 6 columns):\n",
      " #   Column               Non-Null Count  Dtype  \n",
      "---  ------               --------------  -----  \n",
      " 0   party_rk             50000 non-null  int64  \n",
      " 1   gender_cd            49989 non-null  object \n",
      " 2   age                  50000 non-null  float64\n",
      " 3   marital_status_desc  37594 non-null  object \n",
      " 4   children_cnt         50000 non-null  int64  \n",
      " 5   region_flg           50000 non-null  int64  \n",
      "dtypes: float64(1), int64(3), object(2)\n",
      "memory usage: 2.3+ MB\n"
     ]
    }
   ],
   "source": [
    "dfs['socdem'].info()"
   ]
  },
  {
   "cell_type": "code",
   "execution_count": 117,
   "metadata": {},
   "outputs": [],
   "source": [
    "socdem = dfs['socdem'].drop(columns=['party_rk','region_flg'])"
   ]
  },
  {
   "cell_type": "code",
   "execution_count": 119,
   "metadata": {},
   "outputs": [],
   "source": [
    "def factorize(column):\n",
    "    factor = [i for i in socdem[column].dropna().unique()]\n",
    "    tabs = []\n",
    "    for s in factor:\n",
    "        tabs.append(socdem[socdem[column]==s].describe())\n",
    "        col = pd.MultiIndex.from_tuples([(s, 'age'),\n",
    "                                        (s, 'children_cnt')])\n",
    "        tabs[-1].columns = col\n",
    "    return pd.concat(tabs, axis=1, sort=False)"
   ]
  }
 ],
 "metadata": {
  "kernelspec": {
   "display_name": "Python 3",
   "language": "python",
   "name": "python3"
  },
  "language_info": {
   "codemirror_mode": {
    "name": "ipython",
    "version": 3
   },
   "file_extension": ".py",
   "mimetype": "text/x-python",
   "name": "python",
   "nbconvert_exporter": "python",
   "pygments_lexer": "ipython3",
   "version": "3.8.3"
  }
 },
 "nbformat": 4,
 "nbformat_minor": 4
}
